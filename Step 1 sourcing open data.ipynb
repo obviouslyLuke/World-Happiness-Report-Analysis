{
 "cells": [
  {
   "cell_type": "markdown",
   "id": "7fa5404a-b352-4d39-8cf1-93fb1765f86e",
   "metadata": {},
   "source": [
    "## This Notebook includes:\n",
    "#### 1. Importing libraries and data\n",
    "#### 2. Consistancy checks\n",
    "#### 3. Data Wrangling\n",
    "#### 4. Exporting csv"
   ]
  },
  {
   "cell_type": "markdown",
   "id": "ce1e046b-cbeb-4bc4-aaa7-ab8b10fe15af",
   "metadata": {},
   "source": [
    "### 1. Importing libraries and data"
   ]
  },
  {
   "cell_type": "code",
   "execution_count": 2,
   "id": "19082e5a-9dc8-4f03-b421-6ba4f8b87879",
   "metadata": {},
   "outputs": [],
   "source": [
    "## importing libraries\n",
    "import pandas as pd\n",
    "import numpy as np\n",
    "import os"
   ]
  },
  {
   "cell_type": "code",
   "execution_count": 3,
   "id": "fcc642ab-5186-4b7e-b5ab-a779539472ca",
   "metadata": {},
   "outputs": [],
   "source": [
    "## create directory path\n",
    "path = r'C:\\Users\\luke_\\Documents\\FinalProject\\02_data'"
   ]
  },
  {
   "cell_type": "code",
   "execution_count": 4,
   "id": "e4f52ff3-d2c9-4438-ab4b-aac6627f7879",
   "metadata": {},
   "outputs": [],
   "source": [
    "df = pd.read_csv(os.path.join(path, 'original_data','happiness.csv')) "
   ]
  },
  {
   "cell_type": "markdown",
   "id": "017f27c7-ff1c-415a-9f06-c1065ca7c9b4",
   "metadata": {},
   "source": [
    "### 2. Consistancy Checks for the Dataframe "
   ]
  },
  {
   "cell_type": "code",
   "execution_count": 5,
   "id": "dcdbfa85-df76-49a8-8bf4-112c29dd523f",
   "metadata": {},
   "outputs": [
    {
     "data": {
      "text/html": [
       "<div>\n",
       "<style scoped>\n",
       "    .dataframe tbody tr th:only-of-type {\n",
       "        vertical-align: middle;\n",
       "    }\n",
       "\n",
       "    .dataframe tbody tr th {\n",
       "        vertical-align: top;\n",
       "    }\n",
       "\n",
       "    .dataframe thead th {\n",
       "        text-align: right;\n",
       "    }\n",
       "</style>\n",
       "<table border=\"1\" class=\"dataframe\">\n",
       "  <thead>\n",
       "    <tr style=\"text-align: right;\">\n",
       "      <th></th>\n",
       "      <th>Year</th>\n",
       "      <th>Rank</th>\n",
       "      <th>Country name</th>\n",
       "      <th>Region</th>\n",
       "      <th>Happiness score</th>\n",
       "      <th>GDP per capita</th>\n",
       "      <th>Social support</th>\n",
       "      <th>Healthy life expectancy</th>\n",
       "      <th>Freedom to make life choices</th>\n",
       "      <th>Generosity</th>\n",
       "      <th>Perceptions of corruption</th>\n",
       "    </tr>\n",
       "  </thead>\n",
       "  <tbody>\n",
       "    <tr>\n",
       "      <th>0</th>\n",
       "      <td>2024</td>\n",
       "      <td>1</td>\n",
       "      <td>Finland</td>\n",
       "      <td>Europe and Central Asia</td>\n",
       "      <td>7.741</td>\n",
       "      <td>1.844</td>\n",
       "      <td>1.572</td>\n",
       "      <td>0.695</td>\n",
       "      <td>0.859</td>\n",
       "      <td>0.142</td>\n",
       "      <td>0.546</td>\n",
       "    </tr>\n",
       "    <tr>\n",
       "      <th>1</th>\n",
       "      <td>2024</td>\n",
       "      <td>2</td>\n",
       "      <td>Denmark</td>\n",
       "      <td>Europe and Central Asia</td>\n",
       "      <td>7.583</td>\n",
       "      <td>1.908</td>\n",
       "      <td>1.520</td>\n",
       "      <td>0.699</td>\n",
       "      <td>0.823</td>\n",
       "      <td>0.204</td>\n",
       "      <td>0.548</td>\n",
       "    </tr>\n",
       "    <tr>\n",
       "      <th>2</th>\n",
       "      <td>2024</td>\n",
       "      <td>3</td>\n",
       "      <td>Iceland</td>\n",
       "      <td>Europe and Central Asia</td>\n",
       "      <td>7.525</td>\n",
       "      <td>1.881</td>\n",
       "      <td>1.617</td>\n",
       "      <td>0.718</td>\n",
       "      <td>0.819</td>\n",
       "      <td>0.258</td>\n",
       "      <td>0.182</td>\n",
       "    </tr>\n",
       "    <tr>\n",
       "      <th>3</th>\n",
       "      <td>2024</td>\n",
       "      <td>4</td>\n",
       "      <td>Sweden</td>\n",
       "      <td>Europe and Central Asia</td>\n",
       "      <td>7.344</td>\n",
       "      <td>1.878</td>\n",
       "      <td>1.501</td>\n",
       "      <td>0.724</td>\n",
       "      <td>0.838</td>\n",
       "      <td>0.221</td>\n",
       "      <td>0.524</td>\n",
       "    </tr>\n",
       "    <tr>\n",
       "      <th>4</th>\n",
       "      <td>2024</td>\n",
       "      <td>5</td>\n",
       "      <td>Israel</td>\n",
       "      <td>Middle East and North Africa</td>\n",
       "      <td>7.341</td>\n",
       "      <td>1.803</td>\n",
       "      <td>1.513</td>\n",
       "      <td>0.740</td>\n",
       "      <td>0.641</td>\n",
       "      <td>0.153</td>\n",
       "      <td>0.193</td>\n",
       "    </tr>\n",
       "  </tbody>\n",
       "</table>\n",
       "</div>"
      ],
      "text/plain": [
       "   Year  Rank Country name                        Region  Happiness score  \\\n",
       "0  2024     1      Finland       Europe and Central Asia            7.741   \n",
       "1  2024     2      Denmark       Europe and Central Asia            7.583   \n",
       "2  2024     3      Iceland       Europe and Central Asia            7.525   \n",
       "3  2024     4       Sweden       Europe and Central Asia            7.344   \n",
       "4  2024     5       Israel  Middle East and North Africa            7.341   \n",
       "\n",
       "   GDP per capita  Social support   Healthy life expectancy  \\\n",
       "0           1.844           1.572                     0.695   \n",
       "1           1.908           1.520                     0.699   \n",
       "2           1.881           1.617                     0.718   \n",
       "3           1.878           1.501                     0.724   \n",
       "4           1.803           1.513                     0.740   \n",
       "\n",
       "   Freedom to make life choices  Generosity  Perceptions of corruption  \n",
       "0                         0.859       0.142                      0.546  \n",
       "1                         0.823       0.204                      0.548  \n",
       "2                         0.819       0.258                      0.182  \n",
       "3                         0.838       0.221                      0.524  \n",
       "4                         0.641       0.153                      0.193  "
      ]
     },
     "execution_count": 5,
     "metadata": {},
     "output_type": "execute_result"
    }
   ],
   "source": [
    "## start with checking if the import was successful\n",
    "df.head()"
   ]
  },
  {
   "cell_type": "code",
   "execution_count": 6,
   "id": "c5c33bfa-058d-4395-8bf8-37e89d69e2a5",
   "metadata": {},
   "outputs": [
    {
     "data": {
      "text/plain": [
       "(1506, 11)"
      ]
     },
     "execution_count": 6,
     "metadata": {},
     "output_type": "execute_result"
    }
   ],
   "source": [
    "df.shape"
   ]
  },
  {
   "cell_type": "code",
   "execution_count": 7,
   "id": "579be468-9b79-4705-9216-978711926e3a",
   "metadata": {},
   "outputs": [
    {
     "name": "stdout",
     "output_type": "stream",
     "text": [
      "<class 'pandas.core.frame.DataFrame'>\n",
      "RangeIndex: 1506 entries, 0 to 1505\n",
      "Data columns (total 11 columns):\n",
      " #   Column                        Non-Null Count  Dtype  \n",
      "---  ------                        --------------  -----  \n",
      " 0   Year                          1506 non-null   int64  \n",
      " 1   Rank                          1506 non-null   int64  \n",
      " 2   Country name                  1506 non-null   object \n",
      " 3   Region                        1506 non-null   object \n",
      " 4   Happiness score               1506 non-null   float64\n",
      " 5   GDP per capita                1506 non-null   float64\n",
      " 6   Social support                1506 non-null   float64\n",
      " 7    Healthy life expectancy      1506 non-null   float64\n",
      " 8   Freedom to make life choices  1506 non-null   float64\n",
      " 9   Generosity                    1506 non-null   float64\n",
      " 10  Perceptions of corruption     1506 non-null   float64\n",
      "dtypes: float64(7), int64(2), object(2)\n",
      "memory usage: 129.6+ KB\n"
     ]
    }
   ],
   "source": [
    "# Lets get a overview of the data\n",
    "df.info()"
   ]
  },
  {
   "cell_type": "code",
   "execution_count": 8,
   "id": "f4b0d789-cfdb-4149-9880-f23aec49e5c9",
   "metadata": {},
   "outputs": [
    {
     "data": {
      "text/html": [
       "<div>\n",
       "<style scoped>\n",
       "    .dataframe tbody tr th:only-of-type {\n",
       "        vertical-align: middle;\n",
       "    }\n",
       "\n",
       "    .dataframe tbody tr th {\n",
       "        vertical-align: top;\n",
       "    }\n",
       "\n",
       "    .dataframe thead th {\n",
       "        text-align: right;\n",
       "    }\n",
       "</style>\n",
       "<table border=\"1\" class=\"dataframe\">\n",
       "  <thead>\n",
       "    <tr style=\"text-align: right;\">\n",
       "      <th></th>\n",
       "      <th>Year</th>\n",
       "      <th>Rank</th>\n",
       "      <th>Happiness score</th>\n",
       "      <th>GDP per capita</th>\n",
       "      <th>Social support</th>\n",
       "      <th>Healthy life expectancy</th>\n",
       "      <th>Freedom to make life choices</th>\n",
       "      <th>Generosity</th>\n",
       "      <th>Perceptions of corruption</th>\n",
       "    </tr>\n",
       "  </thead>\n",
       "  <tbody>\n",
       "    <tr>\n",
       "      <th>count</th>\n",
       "      <td>1506.000000</td>\n",
       "      <td>1506.000000</td>\n",
       "      <td>1506.000000</td>\n",
       "      <td>1506.000000</td>\n",
       "      <td>1506.000000</td>\n",
       "      <td>1506.000000</td>\n",
       "      <td>1506.000000</td>\n",
       "      <td>1506.000000</td>\n",
       "      <td>1506.000000</td>\n",
       "    </tr>\n",
       "    <tr>\n",
       "      <th>mean</th>\n",
       "      <td>2019.374502</td>\n",
       "      <td>76.112882</td>\n",
       "      <td>5.449790</td>\n",
       "      <td>1.052746</td>\n",
       "      <td>1.053430</td>\n",
       "      <td>0.578175</td>\n",
       "      <td>0.466582</td>\n",
       "      <td>0.170902</td>\n",
       "      <td>0.155222</td>\n",
       "    </tr>\n",
       "    <tr>\n",
       "      <th>std</th>\n",
       "      <td>2.852379</td>\n",
       "      <td>43.896865</td>\n",
       "      <td>1.124127</td>\n",
       "      <td>0.463059</td>\n",
       "      <td>0.332298</td>\n",
       "      <td>0.239459</td>\n",
       "      <td>0.164827</td>\n",
       "      <td>0.105981</td>\n",
       "      <td>0.125084</td>\n",
       "    </tr>\n",
       "    <tr>\n",
       "      <th>min</th>\n",
       "      <td>2015.000000</td>\n",
       "      <td>1.000000</td>\n",
       "      <td>1.721000</td>\n",
       "      <td>0.000000</td>\n",
       "      <td>0.000000</td>\n",
       "      <td>0.000000</td>\n",
       "      <td>0.000000</td>\n",
       "      <td>0.000000</td>\n",
       "      <td>0.000000</td>\n",
       "    </tr>\n",
       "    <tr>\n",
       "      <th>25%</th>\n",
       "      <td>2017.000000</td>\n",
       "      <td>38.000000</td>\n",
       "      <td>4.597750</td>\n",
       "      <td>0.740250</td>\n",
       "      <td>0.841000</td>\n",
       "      <td>0.401250</td>\n",
       "      <td>0.367000</td>\n",
       "      <td>0.092000</td>\n",
       "      <td>0.064000</td>\n",
       "    </tr>\n",
       "    <tr>\n",
       "      <th>50%</th>\n",
       "      <td>2019.000000</td>\n",
       "      <td>76.000000</td>\n",
       "      <td>5.473000</td>\n",
       "      <td>1.070500</td>\n",
       "      <td>1.092500</td>\n",
       "      <td>0.602000</td>\n",
       "      <td>0.482500</td>\n",
       "      <td>0.151500</td>\n",
       "      <td>0.118500</td>\n",
       "    </tr>\n",
       "    <tr>\n",
       "      <th>75%</th>\n",
       "      <td>2022.000000</td>\n",
       "      <td>114.000000</td>\n",
       "      <td>6.271250</td>\n",
       "      <td>1.374000</td>\n",
       "      <td>1.318000</td>\n",
       "      <td>0.760750</td>\n",
       "      <td>0.585000</td>\n",
       "      <td>0.229000</td>\n",
       "      <td>0.210000</td>\n",
       "    </tr>\n",
       "    <tr>\n",
       "      <th>max</th>\n",
       "      <td>2024.000000</td>\n",
       "      <td>158.000000</td>\n",
       "      <td>7.842000</td>\n",
       "      <td>2.209000</td>\n",
       "      <td>1.644000</td>\n",
       "      <td>1.141000</td>\n",
       "      <td>0.863000</td>\n",
       "      <td>0.838000</td>\n",
       "      <td>0.820000</td>\n",
       "    </tr>\n",
       "  </tbody>\n",
       "</table>\n",
       "</div>"
      ],
      "text/plain": [
       "              Year         Rank  Happiness score  GDP per capita  \\\n",
       "count  1506.000000  1506.000000      1506.000000     1506.000000   \n",
       "mean   2019.374502    76.112882         5.449790        1.052746   \n",
       "std       2.852379    43.896865         1.124127        0.463059   \n",
       "min    2015.000000     1.000000         1.721000        0.000000   \n",
       "25%    2017.000000    38.000000         4.597750        0.740250   \n",
       "50%    2019.000000    76.000000         5.473000        1.070500   \n",
       "75%    2022.000000   114.000000         6.271250        1.374000   \n",
       "max    2024.000000   158.000000         7.842000        2.209000   \n",
       "\n",
       "       Social support   Healthy life expectancy  Freedom to make life choices  \\\n",
       "count     1506.000000               1506.000000                   1506.000000   \n",
       "mean         1.053430                  0.578175                      0.466582   \n",
       "std          0.332298                  0.239459                      0.164827   \n",
       "min          0.000000                  0.000000                      0.000000   \n",
       "25%          0.841000                  0.401250                      0.367000   \n",
       "50%          1.092500                  0.602000                      0.482500   \n",
       "75%          1.318000                  0.760750                      0.585000   \n",
       "max          1.644000                  1.141000                      0.863000   \n",
       "\n",
       "        Generosity  Perceptions of corruption  \n",
       "count  1506.000000                1506.000000  \n",
       "mean      0.170902                   0.155222  \n",
       "std       0.105981                   0.125084  \n",
       "min       0.000000                   0.000000  \n",
       "25%       0.092000                   0.064000  \n",
       "50%       0.151500                   0.118500  \n",
       "75%       0.229000                   0.210000  \n",
       "max       0.838000                   0.820000  "
      ]
     },
     "execution_count": 8,
     "metadata": {},
     "output_type": "execute_result"
    }
   ],
   "source": [
    "# Lets look at the basic stats for all numerical columns\n",
    "df.describe()"
   ]
  },
  {
   "cell_type": "code",
   "execution_count": 9,
   "id": "1890b171-934d-4b8f-9007-2cd58a866ff3",
   "metadata": {},
   "outputs": [
    {
     "name": "stdout",
     "output_type": "stream",
     "text": [
      "Year                            0\n",
      "Rank                            0\n",
      "Country name                    0\n",
      "Region                          0\n",
      "Happiness score                 0\n",
      "GDP per capita                  0\n",
      "Social support                  0\n",
      " Healthy life expectancy        0\n",
      "Freedom to make life choices    0\n",
      "Generosity                      0\n",
      "Perceptions of corruption       0\n",
      "dtype: int64\n"
     ]
    }
   ],
   "source": [
    "#Checking for missing values in the dataframe\n",
    "missing_values = df.isnull().sum()\n",
    "print(missing_values)\n",
    "#There are no missing values"
   ]
  },
  {
   "cell_type": "code",
   "execution_count": 10,
   "id": "96e7cdab-c302-4c68-89d4-7b5c02641e33",
   "metadata": {},
   "outputs": [
    {
     "name": "stdout",
     "output_type": "stream",
     "text": [
      "Empty DataFrame\n",
      "Columns: [Year, Rank, Country name, Region, Happiness score, GDP per capita, Social support,  Healthy life expectancy, Freedom to make life choices, Generosity, Perceptions of corruption]\n",
      "Index: []\n"
     ]
    }
   ],
   "source": [
    "# Check for duplicate rows in the DataFrame\n",
    "duplicate_rows = df[df.duplicated()]\n",
    "print(duplicate_rows)\n",
    "#an empty dataframe means there are not duplucates"
   ]
  },
  {
   "cell_type": "code",
   "execution_count": 11,
   "id": "8ac7096b-1e11-49e5-b3da-2812fbc35407",
   "metadata": {},
   "outputs": [
    {
     "name": "stdout",
     "output_type": "stream",
     "text": [
      "Year                              int64\n",
      "Rank                              int64\n",
      "Country name                     object\n",
      "Region                           object\n",
      "Happiness score                 float64\n",
      "GDP per capita                  float64\n",
      "Social support                  float64\n",
      " Healthy life expectancy        float64\n",
      "Freedom to make life choices    float64\n",
      "Generosity                      float64\n",
      "Perceptions of corruption       float64\n",
      "dtype: object\n"
     ]
    }
   ],
   "source": [
    "# Check data types of each column in the DataFrame\n",
    "data_types = df.dtypes\n",
    "print(data_types)\n",
    "#This checks out and is appropriate for the analysis"
   ]
  },
  {
   "cell_type": "markdown",
   "id": "9791ad53-164d-4d77-bdfc-eea81a5c3fc9",
   "metadata": {},
   "source": [
    "### 3. Data Wrangling"
   ]
  },
  {
   "cell_type": "code",
   "execution_count": 12,
   "id": "e2effad1-12d3-47c6-adfe-add605415dd6",
   "metadata": {},
   "outputs": [
    {
     "name": "stdout",
     "output_type": "stream",
     "text": [
      "Index(['Year', 'Rank', 'Country name', 'Region', 'Happiness score',\n",
      "       'GDP per capita', 'Social support', ' Healthy life expectancy',\n",
      "       'Freedom to make life choices', 'Generosity',\n",
      "       'Perceptions of corruption'],\n",
      "      dtype='object')\n"
     ]
    }
   ],
   "source": [
    "# I will change the column names to make them consistant.\n",
    "print(df.columns)"
   ]
  },
  {
   "cell_type": "code",
   "execution_count": 13,
   "id": "3f489097-0cbc-4a87-953e-844b68650b65",
   "metadata": {},
   "outputs": [],
   "source": [
    "#I am having problems renaming some of the columns, so I will clean up any potential white space which might be causing issues\n",
    "df.columns = df.columns.str.strip() "
   ]
  },
  {
   "cell_type": "code",
   "execution_count": 14,
   "id": "f8e9d982-4cac-45dd-872c-0c6e9857a3b7",
   "metadata": {},
   "outputs": [],
   "source": [
    "df.rename(columns={'Year':'year', 'Rank':'rank', 'Country name':'country_name', 'Happiness score':'happiness_score', 'GDP per capita':'gdp/capita',\n",
    "                  'Social support':'social_support', 'Healthy life expectancy':'life_expectancy', 'Freedom to make life choices':'freedom_of_choice',\n",
    "                  'Generosity':'generosity', 'Perceptions of corruption':'percieved_corruption'}, inplace=True)"
   ]
  },
  {
   "cell_type": "code",
   "execution_count": 15,
   "id": "e5ab5940-b9d2-4ccc-8ce0-6d8023f0e4d1",
   "metadata": {},
   "outputs": [
    {
     "data": {
      "text/html": [
       "<div>\n",
       "<style scoped>\n",
       "    .dataframe tbody tr th:only-of-type {\n",
       "        vertical-align: middle;\n",
       "    }\n",
       "\n",
       "    .dataframe tbody tr th {\n",
       "        vertical-align: top;\n",
       "    }\n",
       "\n",
       "    .dataframe thead th {\n",
       "        text-align: right;\n",
       "    }\n",
       "</style>\n",
       "<table border=\"1\" class=\"dataframe\">\n",
       "  <thead>\n",
       "    <tr style=\"text-align: right;\">\n",
       "      <th></th>\n",
       "      <th>year</th>\n",
       "      <th>rank</th>\n",
       "      <th>country_name</th>\n",
       "      <th>Region</th>\n",
       "      <th>happiness_score</th>\n",
       "      <th>gdp/capita</th>\n",
       "      <th>social_support</th>\n",
       "      <th>life_expectancy</th>\n",
       "      <th>freedom_of_choice</th>\n",
       "      <th>generosity</th>\n",
       "      <th>percieved_corruption</th>\n",
       "    </tr>\n",
       "  </thead>\n",
       "  <tbody>\n",
       "    <tr>\n",
       "      <th>0</th>\n",
       "      <td>2024</td>\n",
       "      <td>1</td>\n",
       "      <td>Finland</td>\n",
       "      <td>Europe and Central Asia</td>\n",
       "      <td>7.741</td>\n",
       "      <td>1.844</td>\n",
       "      <td>1.572</td>\n",
       "      <td>0.695</td>\n",
       "      <td>0.859</td>\n",
       "      <td>0.142</td>\n",
       "      <td>0.546</td>\n",
       "    </tr>\n",
       "    <tr>\n",
       "      <th>1</th>\n",
       "      <td>2024</td>\n",
       "      <td>2</td>\n",
       "      <td>Denmark</td>\n",
       "      <td>Europe and Central Asia</td>\n",
       "      <td>7.583</td>\n",
       "      <td>1.908</td>\n",
       "      <td>1.520</td>\n",
       "      <td>0.699</td>\n",
       "      <td>0.823</td>\n",
       "      <td>0.204</td>\n",
       "      <td>0.548</td>\n",
       "    </tr>\n",
       "    <tr>\n",
       "      <th>2</th>\n",
       "      <td>2024</td>\n",
       "      <td>3</td>\n",
       "      <td>Iceland</td>\n",
       "      <td>Europe and Central Asia</td>\n",
       "      <td>7.525</td>\n",
       "      <td>1.881</td>\n",
       "      <td>1.617</td>\n",
       "      <td>0.718</td>\n",
       "      <td>0.819</td>\n",
       "      <td>0.258</td>\n",
       "      <td>0.182</td>\n",
       "    </tr>\n",
       "    <tr>\n",
       "      <th>3</th>\n",
       "      <td>2024</td>\n",
       "      <td>4</td>\n",
       "      <td>Sweden</td>\n",
       "      <td>Europe and Central Asia</td>\n",
       "      <td>7.344</td>\n",
       "      <td>1.878</td>\n",
       "      <td>1.501</td>\n",
       "      <td>0.724</td>\n",
       "      <td>0.838</td>\n",
       "      <td>0.221</td>\n",
       "      <td>0.524</td>\n",
       "    </tr>\n",
       "    <tr>\n",
       "      <th>4</th>\n",
       "      <td>2024</td>\n",
       "      <td>5</td>\n",
       "      <td>Israel</td>\n",
       "      <td>Middle East and North Africa</td>\n",
       "      <td>7.341</td>\n",
       "      <td>1.803</td>\n",
       "      <td>1.513</td>\n",
       "      <td>0.740</td>\n",
       "      <td>0.641</td>\n",
       "      <td>0.153</td>\n",
       "      <td>0.193</td>\n",
       "    </tr>\n",
       "  </tbody>\n",
       "</table>\n",
       "</div>"
      ],
      "text/plain": [
       "   year  rank country_name                        Region  happiness_score  \\\n",
       "0  2024     1      Finland       Europe and Central Asia            7.741   \n",
       "1  2024     2      Denmark       Europe and Central Asia            7.583   \n",
       "2  2024     3      Iceland       Europe and Central Asia            7.525   \n",
       "3  2024     4       Sweden       Europe and Central Asia            7.344   \n",
       "4  2024     5       Israel  Middle East and North Africa            7.341   \n",
       "\n",
       "   gdp/capita  social_support  life_expectancy  freedom_of_choice  generosity  \\\n",
       "0       1.844           1.572            0.695              0.859       0.142   \n",
       "1       1.908           1.520            0.699              0.823       0.204   \n",
       "2       1.881           1.617            0.718              0.819       0.258   \n",
       "3       1.878           1.501            0.724              0.838       0.221   \n",
       "4       1.803           1.513            0.740              0.641       0.153   \n",
       "\n",
       "   percieved_corruption  \n",
       "0                 0.546  \n",
       "1                 0.548  \n",
       "2                 0.182  \n",
       "3                 0.524  \n",
       "4                 0.193  "
      ]
     },
     "execution_count": 15,
     "metadata": {},
     "output_type": "execute_result"
    }
   ],
   "source": [
    "#All good now!\n",
    "df.head()"
   ]
  },
  {
   "cell_type": "markdown",
   "id": "c80065c0-eee4-4384-a66d-c1a38a121137",
   "metadata": {},
   "source": [
    "## Exporting csv"
   ]
  },
  {
   "cell_type": "code",
   "execution_count": 16,
   "id": "cd998173-ce5a-4c5b-a2cd-bad01de1df6c",
   "metadata": {},
   "outputs": [],
   "source": [
    "df.to_csv(os.path.join(path, 'prepared_data', 'happiness_checked.csv'), index=False)"
   ]
  }
 ],
 "metadata": {
  "kernelspec": {
   "display_name": "Python 3 (ipykernel)",
   "language": "python",
   "name": "python3"
  },
  "language_info": {
   "codemirror_mode": {
    "name": "ipython",
    "version": 3
   },
   "file_extension": ".py",
   "mimetype": "text/x-python",
   "name": "python",
   "nbconvert_exporter": "python",
   "pygments_lexer": "ipython3",
   "version": "3.12.4"
  }
 },
 "nbformat": 4,
 "nbformat_minor": 5
}
